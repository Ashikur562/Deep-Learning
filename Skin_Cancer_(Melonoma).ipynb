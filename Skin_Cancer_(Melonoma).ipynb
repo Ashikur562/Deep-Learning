{
  "cells": [
    {
      "cell_type": "code",
      "execution_count": 89,
      "metadata": {
        "id": "N4bRdWe1wj8B"
      },
      "outputs": [],
      "source": [
        "from keras.models import Sequential\n",
        "from keras.layers import Conv2D, MaxPool2D, Flatten, Dense\n",
        "from keras.preprocessing.image import ImageDataGenerator"
      ]
    },
    {
      "cell_type": "markdown",
      "metadata": {
        "id": "h7HdkQRuw-0j"
      },
      "source": [
        "# **Initilize CNN**"
      ]
    },
    {
      "cell_type": "code",
      "execution_count": 90,
      "metadata": {
        "id": "428fqQwRxCVf"
      },
      "outputs": [],
      "source": [
        "cnn = Sequential()"
      ]
    },
    {
      "cell_type": "code",
      "execution_count": 91,
      "metadata": {
        "id": "JyW7kGolxK7B"
      },
      "outputs": [],
      "source": [
        "cnn.add(Conv2D(32, (3,3), input_shape = (64, 64, 3), activation = 'relu'))"
      ]
    },
    {
      "cell_type": "code",
      "execution_count": 92,
      "metadata": {
        "id": "C9FkgdWvxMfg"
      },
      "outputs": [],
      "source": [
        "cnn.add(MaxPool2D(pool_size = (2, 2), strides=2))"
      ]
    },
    {
      "cell_type": "code",
      "execution_count": 93,
      "metadata": {
        "id": "hpmNm7x3xMdw"
      },
      "outputs": [],
      "source": [
        "cnn.add(Conv2D(32, (3,3), activation = 'relu'))"
      ]
    },
    {
      "cell_type": "code",
      "execution_count": 94,
      "metadata": {
        "id": "V0QVJYNgxTxS"
      },
      "outputs": [],
      "source": [
        "cnn.add(MaxPool2D(pool_size = (2, 2), strides=2))"
      ]
    },
    {
      "cell_type": "code",
      "execution_count": 95,
      "metadata": {
        "id": "6SZTCtkAxgB2"
      },
      "outputs": [],
      "source": [
        "cnn.add(Flatten())"
      ]
    },
    {
      "cell_type": "markdown",
      "metadata": {
        "id": "BkWpXpN3xkuD"
      },
      "source": [
        "# **Connected Layer**"
      ]
    },
    {
      "cell_type": "code",
      "execution_count": 96,
      "metadata": {
        "id": "bppwS78Txf_9"
      },
      "outputs": [],
      "source": [
        "#cnn.add(Dense(128, activation = 'relu'))"
      ]
    },
    {
      "cell_type": "code",
      "source": [
        "cnn.add(Dense(64, activation = 'relu'))"
      ],
      "metadata": {
        "id": "GFwVN9mxMZlc"
      },
      "execution_count": 97,
      "outputs": []
    },
    {
      "cell_type": "code",
      "source": [
        "#cnn.add(Dense(32, activation = 'relu'))"
      ],
      "metadata": {
        "id": "YtTsH6XCPS0J"
      },
      "execution_count": 98,
      "outputs": []
    },
    {
      "cell_type": "code",
      "execution_count": 99,
      "metadata": {
        "id": "41k2Z1rXxshb"
      },
      "outputs": [],
      "source": [
        "cnn.add(Dense(9, activation = 'softmax'))"
      ]
    },
    {
      "cell_type": "markdown",
      "metadata": {
        "id": "Ob9cNOQtx1EZ"
      },
      "source": [
        "# **Compile Model**"
      ]
    },
    {
      "cell_type": "code",
      "execution_count": 100,
      "metadata": {
        "id": "TjwNoaEbx2ws"
      },
      "outputs": [],
      "source": [
        "cnn.compile(optimizer = 'adam', \n",
        "            loss = 'categorical_crossentropy',\n",
        "            metrics = ['accuracy'])"
      ]
    },
    {
      "cell_type": "markdown",
      "metadata": {
        "id": "ulomYKUayB-x"
      },
      "source": [
        "# **Fitting Images with The Model**"
      ]
    },
    {
      "cell_type": "code",
      "execution_count": 101,
      "metadata": {
        "id": "iaJ4_Vtex-HU"
      },
      "outputs": [],
      "source": [
        "train_datagen = ImageDataGenerator(rescale = 1./255,\n",
        "                                   shear_range= 0.2,\n",
        "                                   zoom_range= 0.2,\n",
        "                                   horizontal_flip= True)"
      ]
    },
    {
      "cell_type": "code",
      "execution_count": 102,
      "metadata": {
        "id": "M2_xCaRdx-GG"
      },
      "outputs": [],
      "source": [
        "test_datagen = ImageDataGenerator(rescale = 1./255)"
      ]
    },
    {
      "cell_type": "code",
      "execution_count": 106,
      "metadata": {
        "colab": {
          "base_uri": "https://localhost:8080/"
        },
        "id": "dF5BFz03ydO4",
        "outputId": "41dbb224-e4d0-430f-dbe4-3fb32af949dc"
      },
      "outputs": [
        {
          "output_type": "stream",
          "name": "stdout",
          "text": [
            "Found 2241 images belonging to 9 classes.\n"
          ]
        }
      ],
      "source": [
        "training_dataset = train_datagen.flow_from_directory('/content/drive/MyDrive/Deep Learning Data set/Skin cancer ISIC The International Skin Imaging Collaboration/Train',\n",
        "                                                     target_size= (64, 64), batch_size= 32,\n",
        "                                                     class_mode= 'categorical')"
      ]
    },
    {
      "cell_type": "code",
      "execution_count": 107,
      "metadata": {
        "colab": {
          "base_uri": "https://localhost:8080/"
        },
        "id": "_-NiPyfWzGzl",
        "outputId": "9b57e01e-3740-4454-e0f4-4a245921d0f8"
      },
      "outputs": [
        {
          "output_type": "stream",
          "name": "stdout",
          "text": [
            "Found 118 images belonging to 9 classes.\n"
          ]
        }
      ],
      "source": [
        "test_dataset = test_datagen.flow_from_directory('/content/drive/MyDrive/Deep Learning Data set/Skin cancer ISIC The International Skin Imaging Collaboration/Test',\n",
        "                                                target_size= (64, 64), batch_size= 32, \n",
        "                                                class_mode= 'categorical')"
      ]
    },
    {
      "cell_type": "code",
      "execution_count": 108,
      "metadata": {
        "colab": {
          "base_uri": "https://localhost:8080/"
        },
        "id": "_8i0p6xDzkH6",
        "outputId": "f60b7dd2-b326-421f-8830-72a5463697d6"
      },
      "outputs": [
        {
          "output_type": "stream",
          "name": "stdout",
          "text": [
            "Epoch 1/20\n",
            "71/71 [==============================] - 66s 933ms/step - loss: 1.1647 - accuracy: 0.5868 - val_loss: 2.5371 - val_accuracy: 0.3983\n",
            "Epoch 2/20\n",
            "71/71 [==============================] - 62s 877ms/step - loss: 1.0506 - accuracy: 0.6194 - val_loss: 2.6493 - val_accuracy: 0.3983\n",
            "Epoch 3/20\n",
            "71/71 [==============================] - 63s 890ms/step - loss: 0.9971 - accuracy: 0.6457 - val_loss: 2.3872 - val_accuracy: 0.3729\n",
            "Epoch 4/20\n",
            "71/71 [==============================] - 62s 877ms/step - loss: 0.9514 - accuracy: 0.6560 - val_loss: 2.6867 - val_accuracy: 0.4068\n",
            "Epoch 5/20\n",
            "71/71 [==============================] - 63s 889ms/step - loss: 0.9861 - accuracy: 0.6350 - val_loss: 2.6813 - val_accuracy: 0.4322\n",
            "Epoch 6/20\n",
            "71/71 [==============================] - 63s 888ms/step - loss: 0.9877 - accuracy: 0.6435 - val_loss: 2.8433 - val_accuracy: 0.3898\n",
            "Epoch 7/20\n",
            "71/71 [==============================] - 64s 899ms/step - loss: 0.9577 - accuracy: 0.6452 - val_loss: 2.5186 - val_accuracy: 0.3559\n",
            "Epoch 8/20\n",
            "71/71 [==============================] - 64s 898ms/step - loss: 0.9184 - accuracy: 0.6711 - val_loss: 2.7523 - val_accuracy: 0.4322\n",
            "Epoch 9/20\n",
            "71/71 [==============================] - 65s 909ms/step - loss: 0.9286 - accuracy: 0.6627 - val_loss: 2.5712 - val_accuracy: 0.3729\n",
            "Epoch 10/20\n",
            "71/71 [==============================] - 64s 902ms/step - loss: 0.9470 - accuracy: 0.6591 - val_loss: 2.7256 - val_accuracy: 0.3559\n",
            "Epoch 11/20\n",
            "71/71 [==============================] - 62s 879ms/step - loss: 0.9229 - accuracy: 0.6635 - val_loss: 2.8382 - val_accuracy: 0.3390\n",
            "Epoch 12/20\n",
            "71/71 [==============================] - 62s 877ms/step - loss: 0.9169 - accuracy: 0.6613 - val_loss: 2.9834 - val_accuracy: 0.3729\n",
            "Epoch 13/20\n",
            "71/71 [==============================] - 62s 873ms/step - loss: 0.8726 - accuracy: 0.6805 - val_loss: 3.0004 - val_accuracy: 0.3814\n",
            "Epoch 14/20\n",
            "71/71 [==============================] - 62s 878ms/step - loss: 0.8768 - accuracy: 0.6743 - val_loss: 2.4787 - val_accuracy: 0.3136\n",
            "Epoch 15/20\n",
            "71/71 [==============================] - 62s 877ms/step - loss: 0.8904 - accuracy: 0.6836 - val_loss: 2.6359 - val_accuracy: 0.3983\n",
            "Epoch 16/20\n",
            "71/71 [==============================] - 63s 878ms/step - loss: 0.8838 - accuracy: 0.6711 - val_loss: 2.3664 - val_accuracy: 0.4492\n",
            "Epoch 17/20\n",
            "71/71 [==============================] - 62s 875ms/step - loss: 0.8711 - accuracy: 0.6792 - val_loss: 2.8763 - val_accuracy: 0.4237\n",
            "Epoch 18/20\n",
            "71/71 [==============================] - 63s 890ms/step - loss: 0.8511 - accuracy: 0.6881 - val_loss: 2.6389 - val_accuracy: 0.3898\n",
            "Epoch 19/20\n",
            "71/71 [==============================] - 63s 888ms/step - loss: 0.9092 - accuracy: 0.6662 - val_loss: 2.6233 - val_accuracy: 0.3983\n",
            "Epoch 20/20\n",
            "71/71 [==============================] - 66s 931ms/step - loss: 0.8090 - accuracy: 0.7037 - val_loss: 2.6510 - val_accuracy: 0.4237\n"
          ]
        },
        {
          "output_type": "execute_result",
          "data": {
            "text/plain": [
              "<keras.callbacks.History at 0x7f434a4e9490>"
            ]
          },
          "metadata": {},
          "execution_count": 108
        }
      ],
      "source": [
        "cnn.fit(training_dataset, \n",
        "        validation_data= test_dataset,\n",
        "        epochs= 20)"
      ]
    }
  ],
  "metadata": {
    "colab": {
      "name": "Skin Cancer (Melonoma).ipynb",
      "provenance": []
    },
    "kernelspec": {
      "display_name": "Python 3",
      "name": "python3"
    },
    "language_info": {
      "name": "python"
    }
  },
  "nbformat": 4,
  "nbformat_minor": 0
}